{
 "cells": [
  {
   "cell_type": "markdown",
   "id": "1f755267-e310-4a77-8ffe-fb94481808cd",
   "metadata": {},
   "source": [
    "# Installation guide"
   ]
  },
  {
   "cell_type": "markdown",
   "id": "6a8b13a6-e9c2-48b9-b579-16a75f4d80b3",
   "metadata": {},
   "source": [
    "In this notebook, we will guide you through the installation of the necessary tools for this course. \n",
    "\n",
    "# `python`\n",
    "\n",
    "The coding part of this couse will be based on `python` through Jupyter notebooks. You have two options here:\n",
    "\n",
    "- Work online through [Google Colab](https://colab.google/). The advantage here is that you won't need to install anything locally (sometimes a hassle...). You will also have access to cloud computing, which may be beneficial for training larger models. The drawback is that some of the libraries will need to be reinstalled every time you restart a notebook. Also, you won't be able to work here without an internet connection.\n",
    "- Local installation. This will take a little bit longer to set up (5 mins?, see below), but is preferable in the long run, as you will have greater control over your files and installations.\n",
    "\n",
    "## Installing Python and Jupyter notebooks\n",
    "There are different options here, the recommended ones are Anaconda (see installation guide [here](https://www.anaconda.com/docs/getting-started/anaconda/install)) or Visual Studio Code (see guide [here](https://code.visualstudio.com/docs/datascience/jupyter-notebooks)).\n",
    "\n",
    "# Getting `git` ready\n",
    "Git is a free and open source distributed version control system designed to handle everything from small to very large projects with speed and efficiency. We will use it to \"clone\" and \"pull\" notebooks from the course repositories. You have again a few options: 1) the usual one is directly installting `git` (see this [guide](https://git-scm.com/book/en/v2/Getting-Started-Installing-Git)). If you are not confortable using the terminal, we recommend the use of [Github Desktop](https://github.com/apps/desktop).\n",
    "\n",
    "# Getting the course resources ready\n",
    "Now that you have everything installed, you are ready to get the course resources.\n",
    "\n",
    "## `lectures_ml` library\n",
    "> Note: you can skip this step if you will be working via Google Colab\n",
    "\n",
    "First, we will install the library `lectures_ml`, which provides access to different functions and tools that will be used throughout our course. In your terminal (in case you are on Windows, make sure you are in the Anaconda terminal, not the Windows shell), run the following:\n",
    "\n",
    "```\n",
    "pip install git+https://github.com/BorjaRequena/Machine-Learning-Course.git\n",
    "```\n",
    "\n",
    "This may take a bit, as this will also install many other libraries (e.g. `pytorch`, `scikit_learn`, etc) that will be used during the course. To test that everything went fine, you can run the following cell. Note that you need to restart the kernel after installing the libraries for this cell to work:"
   ]
  },
  {
   "cell_type": "code",
   "execution_count": 9,
   "id": "32b27866-8166-43c1-85d8-3be5c128d1b0",
   "metadata": {},
   "outputs": [
    {
     "name": "stdout",
     "output_type": "stream",
     "text": [
      "lectures_ml good!\n",
      "torch good!\n",
      "sklearn good!\n"
     ]
    }
   ],
   "source": [
    "# Test cell, run this to see if the libraries are correctly installed. sklearn sometimes gives some errors.\n",
    "#If it didn't install correctly but the others did, install it via pip: pip install scikit-learn\n",
    "\n",
    "try:\n",
    "    import lectures_ml\n",
    "    print('lectures_ml good!')\n",
    "except ImportError:\n",
    "    raise AssertionError(\"Library 'lectures_ml' is not installed.\")\n",
    "\n",
    "try:\n",
    "    import torch\n",
    "    print('torch good!')\n",
    "except ImportError:\n",
    "    raise AssertionError(\"Library 'torch' is not installed.\")\n",
    "\n",
    "try:\n",
    "    import sklearn\n",
    "    print('sklearn good!')\n",
    "except ImportError:\n",
    "    raise AssertionError(\"Library 'sklearn' is not installed. Install manually if needed via pip install scikit-learn\")"
   ]
  },
  {
   "cell_type": "markdown",
   "id": "1b127e9b-cc62-4c4d-b119-5d8698c42a84",
   "metadata": {},
   "source": [
    "## `ML4Phys_UIBK_W25` repo\n",
    "\n",
    "This repository contains the notebooks that we will follow throughout the course. You have two ways of accessing it:\n",
    "\n",
    "- If you are planning to work via Google Colab, you can go to the [course's webpage](https://gorkamunoz.github.io/ML4Phys_UIBK_W25/) and follow the links redirecting to Colab at the beginning of each section's page.\n",
    "\n",
    "- If you will be working locally, clone the repository using:\n",
    "```\n",
    "git clone https://github.com/gorkamunoz/ML4Phys_UIBK_W25\n",
    "```\n",
    "\n",
    "> This repository will be update regularly with each week's course content. Hence, be sure to `git pull` the repository before each lecture.\n",
    "\n",
    "**Important:** if you edit some of the notebooks (e.g. by doing the exercises), you will end up having some `git` conflicts. To avoid this, we recommend you to copy+paste this repo in a different folder, and call it e.g. `ML4Phys_student`. Use this new notebook to do the exercises, while keeping the original untouched. Follow the procedure above to pull from the original repo. Whenever a new notebook appears, paste it in your \"student\" folder. This is a \"dirty\" solution, `git` indeed gives you access to tools to this properly.\n",
    "\n",
    "## `fastai` library\n",
    "Aside of the libraries in the requirements of `lectures_ml`, we will also need `fastai`. You can install it using `pip install fastai`."
   ]
  }
 ],
 "metadata": {
  "kernelspec": {
   "display_name": "ml_course",
   "language": "python",
   "name": "ml_course"
  },
  "language_info": {
   "codemirror_mode": {
    "name": "ipython",
    "version": 3
   },
   "file_extension": ".py",
   "mimetype": "text/x-python",
   "name": "python",
   "nbconvert_exporter": "python",
   "pygments_lexer": "ipython3",
   "version": "3.12.11"
  }
 },
 "nbformat": 4,
 "nbformat_minor": 5
}
