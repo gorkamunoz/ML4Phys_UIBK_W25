{
 "cells": [
  {
   "cell_type": "markdown",
   "id": "4df1573c",
   "metadata": {},
   "source": [
    "# Structure of the lectures"
   ]
  },
  {
   "cell_type": "markdown",
   "id": "7525cbdd",
   "metadata": {},
   "source": [
    "```{mermaid}\n",
    "flowchart TD\n",
    "subgraph one[ ]\n",
    " A(linear models)--> A1(Linear regression)\n",
    " A --> A2(Polynomial Regression)\n",
    " A --> A3(Logistic Regression)\n",
    " A --> A4(Perceptron)\n",
    "end\n",
    "style one fill:#82c4c3,stroke-width:0px;\n",
    "classDef boxes stroke-width:0px;\n",
    "class A,A1,A2,A3,A4 boxes;\n",
    "```"
   ]
  },
  {
   "cell_type": "markdown",
   "id": "92e190c6",
   "metadata": {},
   "source": [
    "```{mermaid}\n",
    "flowchart TD\n",
    "subgraph three[ ]\n",
    " C(A Probabilistic View on Machine Learning)--> C1(Review Probability)\n",
    " C-->C2(Likelihood)\n",
    " C-->C3(Kullback Leibler Divergence)\n",
    " C-->C4(Linear Regression) \n",
    "end\n",
    "style three fill:#f6d887,stroke-width:0px;\n",
    "classDef boxes stroke-width:0px;\n",
    "class C,C1,C2,C3,C4 boxes;\n",
    "```"
   ]
  },
  {
   "cell_type": "markdown",
   "id": "ab4749ec",
   "metadata": {},
   "source": [
    "```{mermaid}\n",
    "flowchart TD\n",
    "subgraph two[ ]\n",
    " B(Neural Networks)--> B1(Perceptron)\n",
    " B-->B2(Deep Neural Networks)\n",
    " B-->B3(Automatic Differentiation)\n",
    "end\n",
    "style two fill:#82c4c3,stroke-width:0px;\n",
    "classDef boxes stroke-width:0px;\n",
    "class B,B1,B2,B3,B4 boxes;\n",
    "```"
   ]
  },
  {
   "cell_type": "code",
   "execution_count": null,
   "id": "ca0fbd13",
   "metadata": {},
   "outputs": [],
   "source": []
  }
 ],
 "metadata": {
  "kernelspec": {
   "display_name": "python3",
   "language": "python",
   "name": "python3"
  }
 },
 "nbformat": 4,
 "nbformat_minor": 5
}
