{
 "cells": [
  {
   "cell_type": "markdown",
   "id": "594bb3fe",
   "metadata": {},
   "source": [
    "# Machine Learning in Classical and Quantum Physics\n"
   ]
  },
  {
   "cell_type": "markdown",
   "id": "f394dfef-d4c7-46f2-8892-35ed8ccbb8eb",
   "metadata": {},
   "source": [
    "Welcome to the webpage of the **ML for Physics** Course at the **UIBK**. Here you will find most resources of the course, from explanatory notebooks to code snippets that will help us explore the wild world of ML. "
   ]
  },
  {
   "cell_type": "markdown",
   "id": "99246df2-5c75-4598-9b7e-0d3138bba1eb",
   "metadata": {},
   "source": [
    "## Course description\n",
    "\n",
    "This course gives an introduction to machine learning and deep learning: starting from linear linear models al the way up to state of the art generative models. The material covers the following topics:\n",
    "\n",
    "- What is actually machine *learning*?\n",
    "- Basics of ML: From linear models to logistic regression\n",
    "- ML applications: from computer vision to Physics\n",
    "- Basics of deep learning: from neural networks to Transformers\n",
    "- Unsupervised learning and interpretable ML\n",
    "- Reinforcement Learning\n",
    "- Generative modelling: from Boltzmann machines to diffusion models\n",
    "\n",
    "The course combines theory and practice in the form of jupyter notebooks with python. We make extensive use of specific librairies such as `numpy`, `PyTorch` and `fastai`."
   ]
  },
  {
   "cell_type": "markdown",
   "id": "906c68a3",
   "metadata": {},
   "source": [
    "## Evaluation\n",
    "\n",
    "**Homeworks (50%)**\n",
    "\n",
    "There will be 3 homeworks, each equally contributing to the final mark. To know more about the homeworks, visit the [Codabench platform](https://www.codabench.org/competitions/10839). The day after the submission of each of the homeworks, your group will do a short presentation (5 mins.) about the methods you developed. The mark will calculated from your performance above the baseline (60%), the revision of the code + your presentations (35%) and an extra 5% based on your ranking's position (first position gets the full 5% :), and we decrease linearly).\n",
    "\n",
    "**Final Project (30%)**\n",
    "\n",
    "The last weeks of the course you will work in groups on a final project, the topic of which will be made public at later stages. You will present your findings in a 20 minutes presentation in the last days of the course. The topics of the final projects will be decided later, based on the number of course participants.\n",
    "\n",
    "**Exam (20%)**\n",
    "\n",
    "A short written exam, reviewing the main concepts taught in the course."
   ]
  },
  {
   "cell_type": "markdown",
   "id": "c712f2cd-2e81-4e41-bd24-dbcfe88c5d80",
   "metadata": {},
   "source": [
    "## Resources\n",
    "\n",
    "- Some of the content of this course has been adapted from the book [Machine Learning for the Quantum Sciences](https://arxiv.org/abs/2204.04198) by A. Dawid et al., which serves as a gentle introduction to ML but also to its applications in quantum sciences.\n",
    "- The book [Neural Networks and Deep Learning](https://neuralnetworksanddeeplearning.com/index.html) by Nielsen offers a nice hands-on introduction to the world of ML\n",
    "- If you are already fluent in Python, the course [Practical Deep Learning for Coders](https://course.fast.ai/) is for you. Indeed, we will extensively use some of the tools developed therein, as for instance the library `fastai`.\n",
    "- For the Reinforcement Learning part of this course, the book [Reinforcement Learning: An Introduction](http://incompleteideas.net/book/the-book-2nd.html) is the go-to resource"
   ]
  },
  {
   "cell_type": "markdown",
   "id": "5af96ee1",
   "metadata": {},
   "source": [
    "## Previous contributors\n",
    "\n",
    "Part of the content of this course was originally developed for by Borja Requena, Alexandre Dauphin, Marcin Płodzień and Paolo Stornati for the [Master in Quantum Science and Technology Barcelona](https://quantummasterbarcelona.eu). The original course content can be found [here](https://borjarequena.github.io/Machine-Learning-Course/). "
   ]
  }
 ],
 "metadata": {
  "kernelspec": {
   "display_name": "Python 3 (ipykernel)",
   "language": "python",
   "name": "python3"
  },
  "language_info": {
   "codemirror_mode": {
    "name": "ipython",
    "version": 3
   },
   "file_extension": ".py",
   "mimetype": "text/x-python",
   "name": "python",
   "nbconvert_exporter": "python",
   "pygments_lexer": "ipython3",
   "version": "3.9.12"
  }
 },
 "nbformat": 4,
 "nbformat_minor": 5
}
